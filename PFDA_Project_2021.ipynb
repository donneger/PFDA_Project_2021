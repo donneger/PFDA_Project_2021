{
 "cells": [
  {
   "cell_type": "markdown",
   "id": "5dba2fd1-8b3f-4533-be06-0546ea88c711",
   "metadata": {},
   "source": [
    "# PFDA Project 2021\n",
    "## A Simulation of Risk Factors for Type2 Diabetes in Ireland\n",
    "### Introduction\n",
    "The objective of this project is to simulate the risk of developing Type2 Diabetes using a set of generally accepted risk factors that will be described in the project. "
   ]
  },
  {
   "cell_type": "markdown",
   "id": "8021fc6a-baac-45b1-919d-81032fa68df0",
   "metadata": {},
   "source": [
    "What is Diabetes. https://www.diabetes.ie/about-us/what-is-diabetes/\n",
    "- Diabetes, or Diabetes Mellitus to give it its full name, is a condition caused by an insufficient supply of insulin from the pancreas. As the body consumes sugars and carbohydrates the pancreas regulates the supply of insulin to ensure that the sugar in the blood is allowed to get into muscles and cells. When the pancreas cannot produce any or sufficient insulin the body cannot process sugars in the bloodstream to make it available to other body organs, cells and the brain. The resulting build up of excess sugar in the blood has potentially serious and long term health impacts if not recognised and treated. \n",
    "\n",
    "- Diabetes across the globe is one of the great health issues of our time, it was there long before Covid and in all likelihood will be there long after. It is estimated that there are in the region of 450m people that have diabetes worldwide, with by far the greater percentage (~90%) having Type2. It consumes globally in excess of 750mUSD of health spend annually with the US accounting for 40% of this. Overall costs associated with the disorder are in the order of trillionsUSD. It is interesting to note that on a mean annual expenditure per head Ireland is ranked at number 6 in the world. Both the incidence and costs associated with diabetes are are trending substantially upwards with projections indicating a rise to ~650m people worldwide by 2040. \n",
    "\n",
    "https://care.diabetesjournals.org/content/41/5/963\n",
    "https://www.diabetesresearchclinicalpractice.com/action/showFullTableHTML?isHtml=true&tableId=t0005&pii=S0168-8227%2820%2930138-8\n",
    "https://www.diabetesresearchclinicalpractice.com/article/S0168-8227(20)30138-8/fulltext\n",
    "https://en.wikipedia.org/wiki/Diabetes\n",
    "https://www.mayoclinic.org/diseases-conditions/diabetes/symptoms-causes/syc-20371444\n",
    "\n",
    "There are three main classifications of diabetes:\n",
    "1. Type 1 \n",
    "   - It is unclear exactly what triggers Type 1 diabetes, there may be genetic and/or environmental factors. It is characterised by the immune system attacking and destroying the cells in the pancreas that produce insulin. It is not known exactly what triggers this autoimmune response to insulin cells. \n",
    "2. Type 2\n",
    "   - This type of diabetes is characterised by a reduction in the ability of cells to respond to insulin, potentially leading to a reduction in the amount of insulin produced by the pancreas. It is often, but not strictly, a disease of later life and there are a clear set of risk factors that can predispose to developing this disorder.\n",
    "3. Gestational \n",
    "   - This type is specific to pregnancy and develops in women with no previous history of diabetes. It is unclear why it arises and it generally resolves post birth. \n",
    "\n",
    "For the purpose of this project I will only be considering Type 2 Diabetes, reason being that there are some very clear risk factors that can predispose for developing the condition, unlike Type 1 where it is unknown and Gestational where it is specifically preganancy related. As ststed the objective is to assess these risk factors on a statistical basis and from that create a simulation based on synthesised data. Thsi will be carried out in Python using the numpy.random package as well as pandas and pyplot. "
   ]
  },
  {
   "cell_type": "markdown",
   "id": "c0265aec-5941-4a9c-84e6-49495554183f",
   "metadata": {},
   "source": []
  },
  {
   "cell_type": "code",
   "execution_count": null,
   "id": "2dbe7526-bda0-4306-8d59-efbc9d95e1ec",
   "metadata": {},
   "outputs": [],
   "source": []
  },
  {
   "cell_type": "code",
   "execution_count": null,
   "id": "759b507d-0f26-42c1-8f61-6f8c80b3c2cb",
   "metadata": {},
   "outputs": [],
   "source": []
  }
 ],
 "metadata": {
  "kernelspec": {
   "display_name": "Python 3",
   "language": "python",
   "name": "python3"
  },
  "language_info": {
   "codemirror_mode": {
    "name": "ipython",
    "version": 3
   },
   "file_extension": ".py",
   "mimetype": "text/x-python",
   "name": "python",
   "nbconvert_exporter": "python",
   "pygments_lexer": "ipython3",
   "version": "3.8.8"
  }
 },
 "nbformat": 4,
 "nbformat_minor": 5
}
