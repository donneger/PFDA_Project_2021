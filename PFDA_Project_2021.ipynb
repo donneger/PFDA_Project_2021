{
 "cells": [
  {
   "cell_type": "markdown",
   "id": "5dba2fd1-8b3f-4533-be06-0546ea88c711",
   "metadata": {},
   "source": [
    "# PFDA Project 2021\n",
    "## A Simulation of Risk Factors for Type2 Diabetes in Ireland\n",
    "### Introduction\n",
    "The objective of this project is to simulate the risk of developing Type2 Diabetes in Ireland using a set of generally accepted risk factors that will be described in the project. "
   ]
  },
  {
   "cell_type": "markdown",
   "id": "8021fc6a-baac-45b1-919d-81032fa68df0",
   "metadata": {},
   "source": [
    "What is Diabetes. https://www.diabetes.ie/about-us/what-is-diabetes/\n",
    "- Diabetes, or Diabetes Mellitus to give it its full name, is a condition caused by an insufficient supply of insulin from the pancreas. As the body consumes sugars and carbohydrates the pancreas regulates the supply of insulin to ensure that the sugar in the blood is allowed to get into muscles and cells. When the pancreas cannot produce any or sufficient insulin the body cannot process sugars in the bloodstream to make it available to other body organs, cells and the brain. The resulting build up of excess sugar in the blood has potentially serious and long term health impacts if not recognised and treated. \n",
    "\n",
    "- Diabetes across the globe is one of the great health issues of our time, it was there long before Covid and in all likelihood will be there long after. It is estimated that there are in the region of 450m people that have diabetes worldwide, with by far the greater percentage (~90%) having Type2. It consumes globally in excess of 750mUSD of health spend annually with the US accounting for 40% of this. Overall costs associated with the disorder are in the order of trillionsUSD. It is interesting to note that on a mean annual expenditure per head Ireland is ranked at number 6 in the world. Both the incidence and costs associated with diabetes are are trending substantially upwards with projections indicating a rise to ~650m people worldwide by 2040 with pro-rata increases expected in Ireland. \n",
    "\n",
    "https://care.diabetesjournals.org/content/41/5/963\n",
    "\n",
    "https://www.mayoclinic.org/diseases-conditions/diabetes/symptoms-causes/syc-20371444\n",
    "\n",
    "https://www.diabetesresearchclinicalpractice.com/article/S0168-8227(20)30138-8/fulltext\n",
    "\n",
    "https://en.wikipedia.org/wiki/Diabetes\n",
    "\n",
    "\n",
    "There are three main classifications of diabetes:\n",
    "1. Type 1 \n",
    "   - It is unclear exactly what triggers Type 1 diabetes, there may be genetic and/or environmental factors. It is characterised by the immune system attacking and destroying the cells in the pancreas that produce insulin. It is not known exactly what triggers this autoimmune response to insulin cells. \n",
    "2. Type 2\n",
    "   - This type of diabetes is characterised by a reduction in the ability of cells to respond to insulin, potentially leading to a reduction in the amount of insulin produced by the pancreas. It is often, but not strictly, a disease of later life and there are a clear set of risk factors that can predispose to developing this disorder. It affects men and women equally. \n",
    "3. Gestational \n",
    "   - This type is specific to pregnancy and develops in women with no previous history of diabetes. It is unclear why it arises and it generally resolves post birth. \n",
    "\n",
    "For the purpose of this project I will only be considering Type 2 Diabetes, reason being that there are some very clear risk factors that can predispose for developing the condition, unlike Type 1 where it is unknown and Gestational where it is specifically preganancy related. Unless specifically stated the term \"diabetes\" as used in the project is taken to refer to type2. \n",
    "\n",
    "As stated above the objective is to assess these risk factors on a statistical basis and from that create a simulation based on synthesised data. This will be carried out in Python using the numpy.random package as well as pandas and pyplot. The project will be created in a Jupyter notebook and it and associated files will be hosted on Github.  "
   ]
  },
  {
   "cell_type": "markdown",
   "id": "c0265aec-5941-4a9c-84e6-49495554183f",
   "metadata": {},
   "source": [
    "![[Test]](https://els-jbs-prod-cdn.jbs.elsevierhealth.com/cms/attachment/6b40d444-3dbe-4511-8432-2f944ea240a5/gr3.jpg)"
   ]
  },
  {
   "cell_type": "markdown",
   "id": "d7061ee6-fac8-43f7-aa45-c0771795d0c5",
   "metadata": {},
   "source": [
    "### Project approach.\n",
    "The project will be carried out in the following stages:\n",
    "- Online research of primary risk factors that can be used for the simulation.\n",
    "- From the online research translate the risk factors into tables using numpy.\n",
    "- Combine the risk factor data to produce an overall data set where the output is an overall risk factor in the range 0 - 1 of developing type 2 diabetes, where 0 is no or very low risk and 1 is a very high risk. It shoudl be borne in mind that the risk factor is just that, i.e. an indication of the likelihood of developing diabetes, there is no guarantee that a score of 0 means no possibility of developing the disease or a score of 1 means that it is certain. \n",
    "- Plot the outcomes and comment on the findings. "
   ]
  },
  {
   "cell_type": "markdown",
   "id": "40bf30ca-6ad1-434d-98c4-a94ab23d8546",
   "metadata": {},
   "source": [
    "#### Stage 1 - Online Research.\n",
    "This section will review available data related to the generally accepted risk factors associated with diabetes. Given the scale, costs, health and social impacts of diabetes globally, and here in Ireland, it is not surprising there is an enormous amount of resesarch and data available. The challenge here is to find and assess supporting data that is specific to an Ireland context and to that end I have largely restricted the research to this area. However where necessary I will use available information not specific to Ireland, in particular as it relates to disease specific data as against its geographic context. "
   ]
  },
  {
   "cell_type": "markdown",
   "id": "ce6d6678-0970-4c98-be64-1c59f3c75496",
   "metadata": {},
   "source": [
    "Diabetes Risk Factors. https://www.diabetes.ie/risk-factors/\n",
    "\n",
    "The diabetes Ireland website is a valuable source of information and data related to the disease in Ireland. According to the data there are approximately 200,000 people with the condition and of these about 30,000 are undiagnosed. There may also be up to 150,000 in what is termed a pre-diabetes stage, i.e. people who have blood sugar levels higher than normal but have not yet progressed to developing diabetes. Diabetes is termed a \"silent killer\" as many can have the condition but not have any recognisable symptoms. If left undiagnosed and untreated there can be serious health outcomes. \n",
    "\n",
    "Primary Risk Factors. \n",
    "Below is the list of risk factors that I will be looking at to create the overall risk factor data set. While there are quite a few other risk factors, having reviewed a number of online publications these 4 are common across all and are\n",
    "- Age. The risk of developing diabetes increases with age. The risk increases for those over 40, and expecially over 60. Increasing age is generally associated with weight gain and less exercise, 2 other risk factors. Younger individuals can also develop the condition. \n",
    "  - For the project I will be segmenting (binning) the data into 6 age groups, 20-29, 30-39, 40-49, 50-59, 60-69, 70-79.\n",
    "- Weight. This is a primary risk factor and in the developed world the the growth in diabetes is highly reflective of increasing weight in populations. Body cells become more resistant to insulin the greater the amount of fatty tissue in the body. \n",
    "  - For this risk factor I will be using the Body Mass Index (BMI) classification where BMI is calculated as BMI = kg/m2 where kg is a person's weight in kilograms and m2 is their height in metres squared. \n",
    "- Physical Activity. Exercise is an important aspect of diabetes prevention. It helps to control weight and helps cells use up sugar in the blood. At least 30 minutes a day is recommended. On the flip side a lack of exercise has the opposite effect. \n",
    "- Smoking. Smoking is a high risk factor as chemicals in cigarettes interfere with normal cell functions and can decrease the effectivity of insulin in the body. "
   ]
  },
  {
   "cell_type": "code",
   "execution_count": null,
   "id": "cb619063-d2b3-49c4-8f1d-587479e2eb6a",
   "metadata": {},
   "outputs": [],
   "source": []
  }
 ],
 "metadata": {
  "kernelspec": {
   "display_name": "Python 3",
   "language": "python",
   "name": "python3"
  },
  "language_info": {
   "codemirror_mode": {
    "name": "ipython",
    "version": 3
   },
   "file_extension": ".py",
   "mimetype": "text/x-python",
   "name": "python",
   "nbconvert_exporter": "python",
   "pygments_lexer": "ipython3",
   "version": "3.8.8"
  }
 },
 "nbformat": 4,
 "nbformat_minor": 5
}
