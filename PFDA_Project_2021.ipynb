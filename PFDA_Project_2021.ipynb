{
 "cells": [
  {
   "cell_type": "markdown",
   "id": "5dba2fd1-8b3f-4533-be06-0546ea88c711",
   "metadata": {},
   "source": [
    "# PFDA Project 2021\n",
    "## A Simulation of Risk Factors for Type2 Diabetes in Ireland\n",
    "### Introduction\n",
    "The objective of this project is to simulate the risk of developing Type2 Diabetes in Ireland using a set of generally accepted risk factors that will be described in the project. "
   ]
  },
  {
   "cell_type": "markdown",
   "id": "8021fc6a-baac-45b1-919d-81032fa68df0",
   "metadata": {},
   "source": [
    "What is Diabetes. https://www.diabetes.ie/about-us/what-is-diabetes/\n",
    "- Diabetes, or Diabetes Mellitus to give it its full name, is a condition caused by an insufficient supply of insulin from the pancreas. As the body consumes sugars and carbohydrates the pancreas regulates the supply of insulin to ensure that the sugar in the blood is allowed to get into muscles and cells. When the pancreas cannot produce any or sufficient insulin the body cannot process sugars in the bloodstream to make it available to other body organs, cells and the brain. The resulting build up of excess sugar in the blood has potentially serious and long term health impacts if not recognised and treated. \n",
    "\n",
    "- Diabetes across the globe is one of the great health issues of our time, it was there long before Covid and in all likelihood will be there long after. It is estimated that there are in the region of 450m people that have diabetes worldwide, with by far the greater percentage (~90%) having Type2. It consumes globally in excess of 750mUSD of health spend annually with the US accounting for 40% of this. Overall costs associated with the disorder are in the order of trillionsUSD. It is interesting to note that on a mean annual expenditure per head Ireland is ranked at number 6 in the world. Both the incidence and costs associated with diabetes are are trending substantially upwards with projections indicating a rise to ~650m people worldwide by 2040 with pro-rata increases expected in Ireland. \n",
    "\n",
    "https://care.diabetesjournals.org/content/41/5/963\n",
    "\n",
    "https://www.mayoclinic.org/diseases-conditions/diabetes/symptoms-causes/syc-20371444\n",
    "\n",
    "https://www.diabetesresearchclinicalpractice.com/article/S0168-8227(20)30138-8/fulltext\n",
    "\n",
    "https://en.wikipedia.org/wiki/Diabetes\n",
    "\n",
    "\n",
    "There are three main classifications of diabetes:\n",
    "1. Type 1 \n",
    "   - It is unclear exactly what triggers Type 1 diabetes, there may be genetic and/or environmental factors. It is characterised by the immune system attacking and destroying the cells in the pancreas that produce insulin. It is not known exactly what triggers this autoimmune response to insulin cells. \n",
    "2. Type 2\n",
    "   - This type of diabetes is characterised by a reduction in the ability of cells to respond to insulin, potentially leading to a reduction in the amount of insulin produced by the pancreas. It is often, but not strictly, a disease of later life and there are a clear set of risk factors that can predispose to developing this disorder. It affects men and women equally. \n",
    "3. Gestational \n",
    "   - This type is specific to pregnancy and develops in women with no previous history of diabetes. It is unclear why it arises and it generally resolves post birth. \n",
    "\n",
    "For the purpose of this project I will only be considering Type 2 Diabetes, reason being that there are some very clear risk factors that can predispose for developing the condition, unlike Type 1 where it is unknown and Gestational where it is specifically preganancy related. Unless specifically stated the term \"diabetes\" as used in the project is taken to refer to type2. \n",
    "\n",
    "As stated above the objective is to assess these risk factors on a statistical basis and from that create a simulation based on synthesised data. This will be carried out in Python using the numpy.random package as well as pandas and pyplot. The project will be created in a Jupyter notebook and it and associated files will be hosted on Github.  "
   ]
  },
  {
   "cell_type": "markdown",
   "id": "c0265aec-5941-4a9c-84e6-49495554183f",
   "metadata": {},
   "source": [
    "![[Test]](https://els-jbs-prod-cdn.jbs.elsevierhealth.com/cms/attachment/6b40d444-3dbe-4511-8432-2f944ea240a5/gr3.jpg)"
   ]
  },
  {
   "cell_type": "markdown",
   "id": "d7061ee6-fac8-43f7-aa45-c0771795d0c5",
   "metadata": {},
   "source": [
    "### Project approach.\n",
    "The project will be carried out in the following stages:\n",
    "- Online research of primary risk factors that can be used for the simulation.\n",
    "- From the online research translate the risk factors into tables using numpy.\n",
    "- Combine the risk factor data to produce an overall data set where the output is an overall risk factor in the range 0 - 1 of developing type 2 diabetes, where 0 is no or very low risk and 1 is a very high risk. It shoudl be borne in mind that the risk factor is just that, i.e. an indication of the likelihood of developing diabetes, there is no guarantee that a score of 0 means no possibility of developing the disease or a score of 1 means that it is certain. \n",
    "- Plot the outcomes and comment on the findings. "
   ]
  },
  {
   "cell_type": "markdown",
   "id": "40bf30ca-6ad1-434d-98c4-a94ab23d8546",
   "metadata": {},
   "source": [
    "#### Stage 1 - Online Research.\n",
    "This section will review available data related to the generally accepted risk factors associated with diabetes. Given the scale, costs, health and social impacts of diabetes globally, and here in Ireland, it is not surprising there is an enormous amount of resesarch and data available. The challenge here is to find and assess supporting data that is specific to an Ireland context and to that end I have largely restricted the research to this area. However where necessary I will use available information not specific to Ireland, in particular as it relates to disease specific data as against its geographic context. "
   ]
  },
  {
   "cell_type": "markdown",
   "id": "ce6d6678-0970-4c98-be64-1c59f3c75496",
   "metadata": {},
   "source": [
    "Diabetes Risk Factors. https://www.diabetes.ie/risk-factors/\n",
    "\n",
    "The diabetes Ireland website is a valuable source of information and data related to the disease in Ireland. According to the data there are approximately 200,000 people with the condition and of these about 30,000 are undiagnosed. There may also be up to 150,000 in what is termed a pre-diabetes stage, i.e. people who have blood sugar levels higher than normal but have not yet progressed to developing diabetes. Diabetes is termed a \"silent killer\" as many can have the condition but not have any recognisable symptoms. If left undiagnosed and untreated there can be serious health outcomes. \n",
    "\n",
    "Primary Risk Factors. \n",
    "Below is the list of risk factors that I will be looking at to create the overall risk factor data set. While there are quite a few other risk factors, having reviewed a number of online publications these 4 are common across all and are deemed to be amongst the highest risk. \n",
    "- Age. The risk of developing diabetes increases with age. The risk increases for those over 40, and expecially over 60. Increasing age is generally associated with weight gain and less exercise, 2 other risk factors. Younger individuals can also develop the condition. \n",
    "  - For the project I will be segmenting (binning) the data into 6 age groups, 20-29, 30-39, 40-49, 50-59, 60-69, 70-79.\n",
    "- Weight. This is a primary risk factor and in the developed world the the growth in diabetes is highly reflective of increasing weight in populations. Body cells become more resistant to insulin the greater the amount of fatty tissue in the body. \n",
    "  - For this risk factor I will be using the Body Mass Index (BMI) classification where BMI is calculated as BMI = kg/m2 where kg is a person's weight in kilograms and m2 is their height in metres squared. \n",
    "- Physical Activity. Exercise is an important aspect of diabetes prevention. It helps to control weight and helps cells use up sugar in the blood. At least 30 minutes a day is recommended. On the flip side a lack of exercise has the opposite effect. \n",
    "- Smoking. Smoking is a high risk factor as chemicals in cigarettes interfere with normal cell functions and can decrease the effectivity of insulin in the body. According to teh US FDA somkers have a 30% to 40% higher risk of developing diabetes than nonsmokers.  https://www.fda.gov/tobacco-products/health-effects-tobacco-use/cigarette-smoking-risk-factor-type-2-diabetes"
   ]
  },
  {
   "cell_type": "markdown",
   "id": "7956ee6d-e3d6-4d1e-be19-a9a325b8a13a",
   "metadata": {},
   "source": [
    "Data for Risk Factors\n",
    "Having identified the risk factors to be used in the project the next stage is to look at the available data associated with these as this will be needed to quantify the risk factorrs to be used in the syhthesised data set. \n",
    "\n",
    "#### Age https://www.cso.ie/en/releasesandpublications/ep/p-pme/populationandmigrationestimatesapril2021/mainresults/\n",
    "The most reliable source of data for estimates of population is the Central Statistics Office (CSO) www.cso.ie. For the pupose of the project I am using the most recent data as of April 2021 which gives the overall population in the country of 5.01m. For the purpose of the project I have used Table 1.8 from this report which provides a complete breakdown of the population by age category from 2015 to 2021. The 2021 data will be used and is stored in the Datasets folder as IrelandPop_AgeCat.xlsx. \n",
    "\n",
    "The data table is shown below. "
   ]
  },
  {
   "cell_type": "code",
   "execution_count": 132,
   "id": "910879a3-4c8c-4f55-bc1e-32bec903f848",
   "metadata": {},
   "outputs": [],
   "source": [
    "import pandas as pd\n",
    "import numpy as np\n",
    "from numpy import random\n",
    "import matplotlib.pyplot as plt\n",
    "import seaborn as sns\n"
   ]
  },
  {
   "cell_type": "code",
   "execution_count": 126,
   "id": "5d8c3f66-fdd0-447b-b9e9-661a5650e595",
   "metadata": {},
   "outputs": [
    {
     "data": {
      "text/html": [
       "<div>\n",
       "<style scoped>\n",
       "    .dataframe tbody tr th:only-of-type {\n",
       "        vertical-align: middle;\n",
       "    }\n",
       "\n",
       "    .dataframe tbody tr th {\n",
       "        vertical-align: top;\n",
       "    }\n",
       "\n",
       "    .dataframe thead th {\n",
       "        text-align: right;\n",
       "    }\n",
       "</style>\n",
       "<table border=\"1\" class=\"dataframe\">\n",
       "  <thead>\n",
       "    <tr style=\"text-align: right;\">\n",
       "      <th></th>\n",
       "      <th>Category</th>\n",
       "      <th>Yr2015</th>\n",
       "      <th>Yr2016</th>\n",
       "      <th>Yr2017</th>\n",
       "      <th>Yr2018</th>\n",
       "      <th>Yr2019</th>\n",
       "      <th>Yr2020</th>\n",
       "      <th>Yr2021</th>\n",
       "    </tr>\n",
       "  </thead>\n",
       "  <tbody>\n",
       "    <tr>\n",
       "      <th>0</th>\n",
       "      <td>0  -   4</td>\n",
       "      <td>337.9</td>\n",
       "      <td>331.4</td>\n",
       "      <td>324.6</td>\n",
       "      <td>319.3</td>\n",
       "      <td>315.2</td>\n",
       "      <td>309.5</td>\n",
       "      <td>302.6</td>\n",
       "    </tr>\n",
       "    <tr>\n",
       "      <th>1</th>\n",
       "      <td>5  -   9</td>\n",
       "      <td>349.3</td>\n",
       "      <td>355.3</td>\n",
       "      <td>359.1</td>\n",
       "      <td>356.9</td>\n",
       "      <td>352.3</td>\n",
       "      <td>344.1</td>\n",
       "      <td>335.0</td>\n",
       "    </tr>\n",
       "    <tr>\n",
       "      <th>2</th>\n",
       "      <td>10 - 14</td>\n",
       "      <td>314.4</td>\n",
       "      <td>318.9</td>\n",
       "      <td>323.3</td>\n",
       "      <td>332.6</td>\n",
       "      <td>341.4</td>\n",
       "      <td>350.0</td>\n",
       "      <td>358.0</td>\n",
       "    </tr>\n",
       "    <tr>\n",
       "      <th>3</th>\n",
       "      <td>15 - 19</td>\n",
       "      <td>296.1</td>\n",
       "      <td>301.2</td>\n",
       "      <td>308.5</td>\n",
       "      <td>316.2</td>\n",
       "      <td>319.9</td>\n",
       "      <td>323.9</td>\n",
       "      <td>325.3</td>\n",
       "    </tr>\n",
       "    <tr>\n",
       "      <th>4</th>\n",
       "      <td>20 - 24</td>\n",
       "      <td>275.5</td>\n",
       "      <td>273.5</td>\n",
       "      <td>276.3</td>\n",
       "      <td>289.3</td>\n",
       "      <td>298.1</td>\n",
       "      <td>307.2</td>\n",
       "      <td>310.3</td>\n",
       "    </tr>\n",
       "    <tr>\n",
       "      <th>5</th>\n",
       "      <td>25 - 29</td>\n",
       "      <td>298.7</td>\n",
       "      <td>296.7</td>\n",
       "      <td>292.4</td>\n",
       "      <td>291.1</td>\n",
       "      <td>289.2</td>\n",
       "      <td>292.2</td>\n",
       "      <td>291.6</td>\n",
       "    </tr>\n",
       "    <tr>\n",
       "      <th>6</th>\n",
       "      <td>30 - 34</td>\n",
       "      <td>369.2</td>\n",
       "      <td>360.3</td>\n",
       "      <td>347.9</td>\n",
       "      <td>335.8</td>\n",
       "      <td>330.8</td>\n",
       "      <td>324.0</td>\n",
       "      <td>317.2</td>\n",
       "    </tr>\n",
       "    <tr>\n",
       "      <th>7</th>\n",
       "      <td>35 - 39</td>\n",
       "      <td>379.8</td>\n",
       "      <td>388.1</td>\n",
       "      <td>394.6</td>\n",
       "      <td>398.3</td>\n",
       "      <td>397.0</td>\n",
       "      <td>386.5</td>\n",
       "      <td>375.7</td>\n",
       "    </tr>\n",
       "    <tr>\n",
       "      <th>8</th>\n",
       "      <td>40 - 44</td>\n",
       "      <td>353.0</td>\n",
       "      <td>356.5</td>\n",
       "      <td>363.1</td>\n",
       "      <td>369.9</td>\n",
       "      <td>379.9</td>\n",
       "      <td>393.7</td>\n",
       "      <td>402.1</td>\n",
       "    </tr>\n",
       "    <tr>\n",
       "      <th>9</th>\n",
       "      <td>45 - 49</td>\n",
       "      <td>317.0</td>\n",
       "      <td>324.9</td>\n",
       "      <td>333.1</td>\n",
       "      <td>341.2</td>\n",
       "      <td>351.1</td>\n",
       "      <td>358.5</td>\n",
       "      <td>364.4</td>\n",
       "    </tr>\n",
       "    <tr>\n",
       "      <th>10</th>\n",
       "      <td>50 - 54</td>\n",
       "      <td>295.2</td>\n",
       "      <td>298.4</td>\n",
       "      <td>303.3</td>\n",
       "      <td>306.7</td>\n",
       "      <td>310.5</td>\n",
       "      <td>316.0</td>\n",
       "      <td>324.0</td>\n",
       "    </tr>\n",
       "    <tr>\n",
       "      <th>11</th>\n",
       "      <td>55 - 59</td>\n",
       "      <td>260.6</td>\n",
       "      <td>268.2</td>\n",
       "      <td>274.0</td>\n",
       "      <td>279.9</td>\n",
       "      <td>285.9</td>\n",
       "      <td>292.7</td>\n",
       "      <td>297.2</td>\n",
       "    </tr>\n",
       "    <tr>\n",
       "      <th>12</th>\n",
       "      <td>60 - 64</td>\n",
       "      <td>230.8</td>\n",
       "      <td>236.5</td>\n",
       "      <td>242.3</td>\n",
       "      <td>246.5</td>\n",
       "      <td>253.8</td>\n",
       "      <td>258.9</td>\n",
       "      <td>265.9</td>\n",
       "    </tr>\n",
       "    <tr>\n",
       "      <th>13</th>\n",
       "      <td>65 - 69</td>\n",
       "      <td>203.6</td>\n",
       "      <td>208.0</td>\n",
       "      <td>211.3</td>\n",
       "      <td>215.8</td>\n",
       "      <td>219.3</td>\n",
       "      <td>224.2</td>\n",
       "      <td>229.2</td>\n",
       "    </tr>\n",
       "    <tr>\n",
       "      <th>14</th>\n",
       "      <td>70 - 74</td>\n",
       "      <td>150.8</td>\n",
       "      <td>159.9</td>\n",
       "      <td>169.2</td>\n",
       "      <td>177.7</td>\n",
       "      <td>184.8</td>\n",
       "      <td>190.8</td>\n",
       "      <td>194.3</td>\n",
       "    </tr>\n",
       "    <tr>\n",
       "      <th>15</th>\n",
       "      <td>75 - 79</td>\n",
       "      <td>112.2</td>\n",
       "      <td>114.2</td>\n",
       "      <td>116.8</td>\n",
       "      <td>121.9</td>\n",
       "      <td>127.5</td>\n",
       "      <td>134.1</td>\n",
       "      <td>142.8</td>\n",
       "    </tr>\n",
       "    <tr>\n",
       "      <th>16</th>\n",
       "      <td>80 - 84</td>\n",
       "      <td>78.8</td>\n",
       "      <td>80.5</td>\n",
       "      <td>82.9</td>\n",
       "      <td>85.1</td>\n",
       "      <td>87.4</td>\n",
       "      <td>89.8</td>\n",
       "      <td>91.4</td>\n",
       "    </tr>\n",
       "    <tr>\n",
       "      <th>17</th>\n",
       "      <td>85 years and over</td>\n",
       "      <td>64.9</td>\n",
       "      <td>67.3</td>\n",
       "      <td>69.7</td>\n",
       "      <td>73.0</td>\n",
       "      <td>77.3</td>\n",
       "      <td>81.2</td>\n",
       "      <td>84.6</td>\n",
       "    </tr>\n",
       "  </tbody>\n",
       "</table>\n",
       "</div>"
      ],
      "text/plain": [
       "             Category  Yr2015  Yr2016  Yr2017  Yr2018  Yr2019  Yr2020  Yr2021\n",
       "0            0  -   4   337.9   331.4   324.6   319.3   315.2   309.5   302.6\n",
       "1            5  -   9   349.3   355.3   359.1   356.9   352.3   344.1   335.0\n",
       "2             10 - 14   314.4   318.9   323.3   332.6   341.4   350.0   358.0\n",
       "3             15 - 19   296.1   301.2   308.5   316.2   319.9   323.9   325.3\n",
       "4             20 - 24   275.5   273.5   276.3   289.3   298.1   307.2   310.3\n",
       "5             25 - 29   298.7   296.7   292.4   291.1   289.2   292.2   291.6\n",
       "6             30 - 34   369.2   360.3   347.9   335.8   330.8   324.0   317.2\n",
       "7             35 - 39   379.8   388.1   394.6   398.3   397.0   386.5   375.7\n",
       "8             40 - 44   353.0   356.5   363.1   369.9   379.9   393.7   402.1\n",
       "9             45 - 49   317.0   324.9   333.1   341.2   351.1   358.5   364.4\n",
       "10            50 - 54   295.2   298.4   303.3   306.7   310.5   316.0   324.0\n",
       "11            55 - 59   260.6   268.2   274.0   279.9   285.9   292.7   297.2\n",
       "12            60 - 64   230.8   236.5   242.3   246.5   253.8   258.9   265.9\n",
       "13            65 - 69   203.6   208.0   211.3   215.8   219.3   224.2   229.2\n",
       "14            70 - 74   150.8   159.9   169.2   177.7   184.8   190.8   194.3\n",
       "15            75 - 79   112.2   114.2   116.8   121.9   127.5   134.1   142.8\n",
       "16            80 - 84    78.8    80.5    82.9    85.1    87.4    89.8    91.4\n",
       "17  85 years and over    64.9    67.3    69.7    73.0    77.3    81.2    84.6"
      ]
     },
     "execution_count": 126,
     "metadata": {},
     "output_type": "execute_result"
    }
   ],
   "source": [
    "df = pd.read_csv(\"./Datasets/IrelandPop_AgeCat.csv\")\n",
    "print(list(df.columns)"
   ]
  },
  {
   "cell_type": "code",
   "execution_count": 172,
   "id": "be2291f5-18ce-4b23-8c9a-a9ab0eff25f6",
   "metadata": {},
   "outputs": [
    {
     "data": {
      "text/plain": [
       "array([[302.6],\n",
       "       [335. ],\n",
       "       [358. ],\n",
       "       [325.3],\n",
       "       [310.3],\n",
       "       [291.6],\n",
       "       [317.2],\n",
       "       [375.7],\n",
       "       [402.1],\n",
       "       [364.4],\n",
       "       [324. ],\n",
       "       [297.2],\n",
       "       [265.9],\n",
       "       [229.2],\n",
       "       [194.3],\n",
       "       [142.8],\n",
       "       [ 91.4],\n",
       "       [ 84.6]])"
      ]
     },
     "execution_count": 172,
     "metadata": {},
     "output_type": "execute_result"
    }
   ],
   "source": [
    "# Getting just the 2021 data.\n",
    "df_21 = df[['Yr2021']]\n",
    "df_21np=df_21.to_numpy()\n",
    "df_21np"
   ]
  },
  {
   "cell_type": "code",
   "execution_count": 176,
   "id": "e33a660e-4765-4427-8fad-a638db6628f7",
   "metadata": {},
   "outputs": [
    {
     "data": {
      "text/plain": [
       "<seaborn.axisgrid.FacetGrid at 0x25104a0e040>"
      ]
     },
     "execution_count": 176,
     "metadata": {},
     "output_type": "execute_result"
    },
    {
     "data": {
      "image/png": "[encoded data removed]",
      "text/plain": [
       "<Figure size 402.375x360 with 1 Axes>"
      ]
     },
     "metadata": {
      "needs_background": "light"
     },
     "output_type": "display_data"
    }
   ],
   "source": [
    "sns.displot(data=df_21np, bins=10)"
   ]
  },
  {
   "cell_type": "code",
   "execution_count": 128,
   "id": "d1aa1560-c87e-40c1-ac4c-2a6c3d85ed83",
   "metadata": {},
   "outputs": [
    {
     "data": {
      "text/html": [
       "<div>\n",
       "<style scoped>\n",
       "    .dataframe tbody tr th:only-of-type {\n",
       "        vertical-align: middle;\n",
       "    }\n",
       "\n",
       "    .dataframe tbody tr th {\n",
       "        vertical-align: top;\n",
       "    }\n",
       "\n",
       "    .dataframe thead th {\n",
       "        text-align: right;\n",
       "    }\n",
       "</style>\n",
       "<table border=\"1\" class=\"dataframe\">\n",
       "  <thead>\n",
       "    <tr style=\"text-align: right;\">\n",
       "      <th></th>\n",
       "      <th>Category</th>\n",
       "      <th>Yr2021</th>\n",
       "    </tr>\n",
       "  </thead>\n",
       "  <tbody>\n",
       "    <tr>\n",
       "      <th>4</th>\n",
       "      <td>20 - 24</td>\n",
       "      <td>310.3</td>\n",
       "    </tr>\n",
       "    <tr>\n",
       "      <th>5</th>\n",
       "      <td>25 - 29</td>\n",
       "      <td>291.6</td>\n",
       "    </tr>\n",
       "  </tbody>\n",
       "</table>\n",
       "</div>"
      ],
      "text/plain": [
       "  Category  Yr2021\n",
       "4  20 - 24   310.3\n",
       "5  25 - 29   291.6"
      ]
     },
     "execution_count": 128,
     "metadata": {},
     "output_type": "execute_result"
    }
   ],
   "source": [
    "df_21.loc[4:5]"
   ]
  },
  {
   "cell_type": "code",
   "execution_count": 138,
   "id": "65c284d9-36be-4f77-b10a-9fcc22464a45",
   "metadata": {},
   "outputs": [],
   "source": [
    "pop=np.random.uniform(20, 80, 1000)"
   ]
  },
  {
   "cell_type": "code",
   "execution_count": 154,
   "id": "e3ec27c9-ec34-4a7a-a5d7-4cfc3702e294",
   "metadata": {},
   "outputs": [
    {
     "data": {
      "text/plain": [
       "<AxesSubplot:ylabel='Count'>"
      ]
     },
     "execution_count": 154,
     "metadata": {},
     "output_type": "execute_result"
    },
    {
     "data": {
      "image/png": "[encoded data removed]",
      "text/plain": [
       "<Figure size 432x288 with 1 Axes>"
      ]
     },
     "metadata": {
      "needs_background": "light"
     },
     "output_type": "display_data"
    }
   ],
   "source": [
    "sns.histplot(pop, bins=[20, 29, 39, 49, 59, 69, 79])"
   ]
  },
  {
   "cell_type": "markdown",
   "id": "0e701856-dc33-4cf3-81dc-6ebd2745e59c",
   "metadata": {},
   "source": [
    "#### Weight\n",
    "Weight is a primary risk factor for developing Type2 Diabetes. As described above excess fatty tissue interferes with the cells ability to absorb insulin and contributes to reduced insulin output from the pancreas. All of the research indicates a clear and causal relationship between the increasing weight trends in populations and the increased incidence of diabetes, in particuar across the developed world, the US being a prime example. The trends in Ireland show a similar profile, in fact thbe most recent study by Eurostat indicates that Ireland has the second highest rate of obesity in the EU with 26% of the adult population classified as obese (up from 14% in a 2014 study), and overall 56% of the adult population classified as overweight. \n",
    "\n",
    "https://www.cdc.gov/obesity/adult/defining.html\n",
    "\n",
    "https://dmsjournal.biomedcentral.com/articles/10.1186/1758-5996-6-50\n",
    "\n",
    "https://care.diabetesjournals.org/content/30/6/1562\n",
    "\n",
    "https://www.irishexaminer.com/news/arid-40343039.html\n",
    "\n",
    "https://ec.europa.eu/eurostat/web/microdata/european-health-interview-survey\n",
    "\n",
    "While not perfect by any means BMI is nonetheless a good indicator of weight status in individuals It is easy to measure being weight(kg)/height(m2) and and is generally defined as follows:\n",
    "- BMI is less than 18.5, it falls within the underweight range.\n",
    "- BMI is 18.5 to <25, it falls within the healthy weight range\n",
    "- BMI is 25.0 to <30, it falls within the overweight range.\n",
    "- BMI is 30.0 or higher, it falls within the obesity range.\n",
    "\n",
    "Note that obestity of further subdivided into following classifications:\n",
    "- Class 1: BMI of 30 to < 35\n",
    "- Class 2: BMI of 35 to < 40\n",
    "- Class 3: BMI of 40 or higher.\n",
    "\n",
    "From the 2019 Healthy Ireland Report 37% have a normal weight, 37% are overwieght and 23% are obese.\n",
    "\n",
    "For the purpose of the project I will be using the following BMI Profiles for the age groups:\n",
    "\n",
    "![BMI Profie Ireland](./Datasets/BMI_Ireland.png)"
   ]
  },
  {
   "cell_type": "markdown",
   "id": "e57f3515-778f-41ab-a246-e3b442f99b9f",
   "metadata": {},
   "source": [
    "#### Physical Activity\n",
    "https://www2.hse.ie/wellbeing/being-active-with-a-health-condition/diabetes-and-physical-activity.html\n",
    "\n",
    "chrome-extension://efaidnbmnnnibpcajpcglclefindmkaj/viewer.html?pdfurl=https%3A%2F%2Fwww.canadianjournalofdiabetes.com%2Farticle%2FS1499-2671(17)30818-3%2Fpdf&clen=501299\n",
    "\n",
    "https://care.diabetesjournals.org/content/39/11/2065\n",
    "\n",
    "https://www.health.harvard.edu/staying-healthy/the-importance-of-exercise-when-you-have-diabetes\n",
    "\n",
    "https://remotecoach.fit/physical-inactivity-how-not-moving-is-killing-us/?gclid=Cj0KCQiAzMGNBhCyARIsANpUkzNZVxGlFX8wPx49Ija-MoIxDfkr49N6lH3dmcnFC2gX993Thaa2gxcaAqllEALw_wcB\n",
    "\n",
    "https://journals.humankinetics.com/view/journals/jpah/13/s2/article-pS183.xml\n",
    "\n",
    "https://academic.oup.com/biomedgerontology/article/73/11/1538/4807398?login=true\n",
    "\n",
    "\n",
    "\n",
    "The benefits of physical activity can never be understated. There are innumerable studies demonstrating the benefits of physical activity both in reducing the risk of developing diabetes and of improving outcomes for those with diabetes. Among the many benefits it can help with controlling/losing weight, better management of blood sugar levels, blood pressure and circulation. At a minimum it it is recommended that individuals partake in some physical activity for at least 30 minutes per day. All forms of exercise are good, i.e. aerobic, resistance or both. \n",
    "\n",
    "Unfortunately across the developed world populations are increasingly leading more sedentary lives which in turn feeds into the trends of increasing weight and the resulting risks of developing diabetes. It is estimated that the risk of developing diabetes from insifficient activity is increased by 50%. In the US alone it is estimated that 75% of adults do not get sufficient physical activity. In an Ireland context, having reviewed the Healty Ireland Report of 2019 it is estmated that overall only 46% of adults reach the recommended levels of activity. \n",
    "\n",
    "For the purpose of this project I am using the following as indicators of % of the age bracket reaching the required levels of activity:\n",
    "\n",
    "- 20-29: 60%\n",
    "- 30-39: 55%\n",
    "- 40-49: 50%\n",
    "- 50-59: 45%\n",
    "- 60-69: 40%\n",
    "- 70-79: 35%\n"
   ]
  },
  {
   "cell_type": "markdown",
   "id": "e8334c2e-1868-484a-a446-8bc09c196461",
   "metadata": {},
   "source": [
    "#### Smoking\n"
   ]
  },
  {
   "cell_type": "code",
   "execution_count": null,
   "id": "9bb6d55c-0ce4-4167-ad03-b85e757409d2",
   "metadata": {},
   "outputs": [],
   "source": []
  }
 ],
 "metadata": {
  "kernelspec": {
   "display_name": "Python 3",
   "language": "python",
   "name": "python3"
  },
  "language_info": {
   "codemirror_mode": {
    "name": "ipython",
    "version": 3
   },
   "file_extension": ".py",
   "mimetype": "text/x-python",
   "name": "python",
   "nbconvert_exporter": "python",
   "pygments_lexer": "ipython3",
   "version": "3.8.8"
  }
 },
 "nbformat": 4,
 "nbformat_minor": 5
}
